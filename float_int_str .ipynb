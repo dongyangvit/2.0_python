{
 "cells": [
  {
   "cell_type": "markdown",
   "metadata": {},
   "source": [
    "### python 字符串和整数，浮点型互相转换"
   ]
  },
  {
   "cell_type": "code",
   "execution_count": 5,
   "metadata": {},
   "outputs": [
    {
     "name": "stdout",
     "output_type": "stream",
     "text": [
      "123\n",
      "123.5\n"
     ]
    },
    {
     "data": {
      "text/plain": [
       "'123'"
      ]
     },
     "execution_count": 5,
     "metadata": {},
     "output_type": "execute_result"
    }
   ],
   "source": [
    "num1 = '123' \n",
    "# 将字符串转化为整数，用 int(str)\n",
    "num2= int(num1)\n",
    "print(num2)\n",
    "\n",
    "num3 = '123.5'\n",
    "# 将字符串转化为浮点数\n",
    "num4 = float(num3)\n",
    "print(num4)\n",
    "\n",
    "num5 = 123\n",
    "#将其转化为字符串 string \n",
    "num6 = str(num5)\n",
    "num6"
   ]
  },
  {
   "cell_type": "markdown",
   "metadata": {},
   "source": [
    "#### 对list数据进行转化"
   ]
  },
  {
   "cell_type": "code",
   "execution_count": 15,
   "metadata": {},
   "outputs": [
    {
     "data": {
      "text/plain": [
       "<map at 0x108036518>"
      ]
     },
     "execution_count": 15,
     "metadata": {},
     "output_type": "execute_result"
    }
   ],
   "source": [
    "#map(eval,name of the list)\n",
    "ap=['1','2','3']\n",
    "map(eval,['1','2','3'])\n",
    "\n",
    "#map() 会根据提供的函数对指定序列做映射。\n",
    "#第一个参数 function 以参数序列中的每一个元素调用 function 函数，\n",
    "#返回包含每次 function 函数返回值的新列表。"
   ]
  },
  {
   "cell_type": "code",
   "execution_count": 12,
   "metadata": {},
   "outputs": [
    {
     "data": {
      "text/plain": [
       "[1, 2, 3]"
      ]
     },
     "execution_count": 12,
     "metadata": {},
     "output_type": "execute_result"
    }
   ],
   "source": [
    "#method2: [int(i) for i in ap]\n",
    "ap=['1','2','3']\n",
    "[int(i) for i in ap]"
   ]
  },
  {
   "cell_type": "code",
   "execution_count": null,
   "metadata": {},
   "outputs": [],
   "source": []
  }
 ],
 "metadata": {
  "kernelspec": {
   "display_name": "Python 3",
   "language": "python",
   "name": "python3"
  },
  "language_info": {
   "codemirror_mode": {
    "name": "ipython",
    "version": 3
   },
   "file_extension": ".py",
   "mimetype": "text/x-python",
   "name": "python",
   "nbconvert_exporter": "python",
   "pygments_lexer": "ipython3",
   "version": "3.6.8"
  }
 },
 "nbformat": 4,
 "nbformat_minor": 2
}
