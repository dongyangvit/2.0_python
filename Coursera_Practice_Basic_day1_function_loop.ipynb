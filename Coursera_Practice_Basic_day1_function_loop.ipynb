{
 "cells": [
  {
   "cell_type": "markdown",
   "metadata": {},
   "source": [
    "## 1. Function"
   ]
  },
  {
   "cell_type": "code",
   "execution_count": 1,
   "metadata": {},
   "outputs": [
    {
     "name": "stdout",
     "output_type": "stream",
     "text": [
      "Hello\n",
      "Fun\n",
      "Zip\n",
      "Hello\n",
      "Fun\n"
     ]
    }
   ],
   "source": [
    "def thing():\n",
    "    print('Hello')\n",
    "    print('Fun')\n",
    "thing()  # call the function \n",
    "print('Zip')\n",
    "thing()"
   ]
  },
  {
   "cell_type": "markdown",
   "metadata": {},
   "source": [
    "####   print(), int() 都属于 function的一种"
   ]
  },
  {
   "cell_type": "code",
   "execution_count": 5,
   "metadata": {},
   "outputs": [
    {
     "name": "stdout",
     "output_type": "stream",
     "text": [
      "w\n"
     ]
    }
   ],
   "source": [
    "big = max('Hello world')\n",
    "print(big)"
   ]
  },
  {
   "cell_type": "markdown",
   "metadata": {},
   "source": [
    "## 2. Loops and Iteration"
   ]
  },
  {
   "cell_type": "markdown",
   "metadata": {},
   "source": [
    " - Repeated Steps \n",
    " - while \n",
    " - Iteration（迭代器）当我们用一个循环（比如 for 循环）来遍历容器（比如列表，元组）中的元素时，这种遍历的过程就叫迭代。"
   ]
  },
  {
   "cell_type": "code",
   "execution_count": 7,
   "metadata": {},
   "outputs": [
    {
     "name": "stdout",
     "output_type": "stream",
     "text": [
      ">finished\n",
      "finished\n",
      ">done\n",
      "Done!\n"
     ]
    }
   ],
   "source": [
    "# break: the statement ends the current loop and jumps to the statement immediately following the loop\n",
    "while True:\n",
    "    line = input('>')\n",
    "    if line == 'done':\n",
    "        break\n",
    "    print(line)\n",
    "print('Done!')"
   ]
  },
  {
   "cell_type": "code",
   "execution_count": 8,
   "metadata": {},
   "outputs": [
    {
     "name": "stdout",
     "output_type": "stream",
     "text": [
      ">hello there\n",
      "hello there\n",
      "># dont't print this\n",
      ">done\n",
      "Done!\n"
     ]
    }
   ],
   "source": [
    "# continue: ends the current iteration and jumps to the top of the loop and starts the next iteration.\n",
    "while True:\n",
    "    line = input('>')\n",
    "    if line[0] == '#':\n",
    "        continue\n",
    "    if line == 'done':\n",
    "        break\n",
    "    print(line)\n",
    "print('Done!')"
   ]
  },
  {
   "cell_type": "code",
   "execution_count": 9,
   "metadata": {},
   "outputs": [
    {
     "name": "stdout",
     "output_type": "stream",
     "text": [
      "5\n",
      "4\n",
      "3\n",
      "2\n",
      "1\n",
      "B\n"
     ]
    }
   ],
   "source": [
    "#definite loops\n",
    "for i in [5,4,3,2,1]:\n",
    "    print(i)\n",
    "print('B')"
   ]
  },
  {
   "cell_type": "code",
   "execution_count": 10,
   "metadata": {},
   "outputs": [
    {
     "name": "stdout",
     "output_type": "stream",
     "text": [
      "Happy New Year J\n",
      "Happy New Year G\n",
      "Happy New Year S\n",
      "Done!\n"
     ]
    }
   ],
   "source": [
    "friends = ['J','G','S']\n",
    "for friend in friends:\n",
    "    print('Happy New Year',friend) #friend is a new variable. it will go through the list of \"friends\" and then assigned them to the variable \"friend\" \n",
    "print('Done!') #when the for statement is done, print the last line"
   ]
  },
  {
   "cell_type": "code",
   "execution_count": 11,
   "metadata": {},
   "outputs": [
    {
     "name": "stdout",
     "output_type": "stream",
     "text": [
      "Before -1\n",
      "9 9\n",
      "41 41\n",
      "41 3\n",
      "41 12\n",
      "75 75\n",
      "75 10\n",
      "After 75\n"
     ]
    }
   ],
   "source": [
    "# finding the largest value\n",
    "largest_so_far = -1\n",
    "print('Before',largest_so_far)\n",
    "for the_num in [9,41,3,12,75,10]:\n",
    "    if the_num > largest_so_far:\n",
    "        largest_so_far = the_num\n",
    "    print(largest_so_far,the_num)\n",
    "print('After',largest_so_far)"
   ]
  },
  {
   "cell_type": "code",
   "execution_count": 12,
   "metadata": {},
   "outputs": [
    {
     "name": "stdout",
     "output_type": "stream",
     "text": [
      "Before\n",
      "large number 41\n",
      "large number 75\n",
      "After\n"
     ]
    }
   ],
   "source": [
    "#filtering in a loop\n",
    "print('Before')\n",
    "for value in [9,41,3,12,75,10]:\n",
    "    if value > 20:\n",
    "        print('large number',value)\n",
    "print('After')"
   ]
  },
  {
   "cell_type": "code",
   "execution_count": 13,
   "metadata": {},
   "outputs": [
    {
     "name": "stdout",
     "output_type": "stream",
     "text": [
      "Before False\n",
      "False 9\n",
      "False 41\n",
      "True 3\n",
      "True 12\n",
      "True 75\n",
      "True 10\n",
      "After True\n"
     ]
    }
   ],
   "source": [
    "#filtering in a loop\n",
    "found=False\n",
    "print('Before',found)\n",
    "for value in [9,41,3,12,75,10]:\n",
    "    if value == 3:\n",
    "        found = True\n",
    "    print(found,value)\n",
    "print('After',found)"
   ]
  },
  {
   "cell_type": "code",
   "execution_count": null,
   "metadata": {},
   "outputs": [],
   "source": []
  }
 ],
 "metadata": {
  "kernelspec": {
   "display_name": "Python 3",
   "language": "python",
   "name": "python3"
  },
  "language_info": {
   "codemirror_mode": {
    "name": "ipython",
    "version": 3
   },
   "file_extension": ".py",
   "mimetype": "text/x-python",
   "name": "python",
   "nbconvert_exporter": "python",
   "pygments_lexer": "ipython3",
   "version": "3.6.8"
  }
 },
 "nbformat": 4,
 "nbformat_minor": 2
}
